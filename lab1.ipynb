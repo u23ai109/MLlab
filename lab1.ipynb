{
 "cells": [
  {
   "cell_type": "code",
   "execution_count": 1,
   "id": "ad899123-0814-4eed-9bf9-ea8d1d278dcd",
   "metadata": {},
   "outputs": [],
   "source": [
    "import numpy as np\n",
    "import pandas as pd\n",
    "import matplotlib.pyplot as plt\n",
    "import seaborn as sns"
   ]
  },
  {
   "cell_type": "code",
   "execution_count": 2,
   "id": "18863951-f003-42d7-b14e-b3e3fab5030d",
   "metadata": {},
   "outputs": [],
   "source": [
    "df=pd.read_csv('advertising.csv')"
   ]
  },
  {
   "cell_type": "code",
   "execution_count": 3,
   "id": "d97ebb92-50b7-49b8-ac88-d09f4c8b3e84",
   "metadata": {},
   "outputs": [
    {
     "data": {
      "text/html": [
       "<div>\n",
       "<style scoped>\n",
       "    .dataframe tbody tr th:only-of-type {\n",
       "        vertical-align: middle;\n",
       "    }\n",
       "\n",
       "    .dataframe tbody tr th {\n",
       "        vertical-align: top;\n",
       "    }\n",
       "\n",
       "    .dataframe thead th {\n",
       "        text-align: right;\n",
       "    }\n",
       "</style>\n",
       "<table border=\"1\" class=\"dataframe\">\n",
       "  <thead>\n",
       "    <tr style=\"text-align: right;\">\n",
       "      <th></th>\n",
       "      <th>TV</th>\n",
       "      <th>Radio</th>\n",
       "      <th>Newspaper</th>\n",
       "      <th>Sales</th>\n",
       "    </tr>\n",
       "  </thead>\n",
       "  <tbody>\n",
       "    <tr>\n",
       "      <th>0</th>\n",
       "      <td>230.1</td>\n",
       "      <td>37.8</td>\n",
       "      <td>69.2</td>\n",
       "      <td>22.1</td>\n",
       "    </tr>\n",
       "    <tr>\n",
       "      <th>1</th>\n",
       "      <td>44.5</td>\n",
       "      <td>39.3</td>\n",
       "      <td>45.1</td>\n",
       "      <td>10.4</td>\n",
       "    </tr>\n",
       "    <tr>\n",
       "      <th>2</th>\n",
       "      <td>17.2</td>\n",
       "      <td>45.9</td>\n",
       "      <td>69.3</td>\n",
       "      <td>12.0</td>\n",
       "    </tr>\n",
       "    <tr>\n",
       "      <th>3</th>\n",
       "      <td>151.5</td>\n",
       "      <td>41.3</td>\n",
       "      <td>58.5</td>\n",
       "      <td>16.5</td>\n",
       "    </tr>\n",
       "    <tr>\n",
       "      <th>4</th>\n",
       "      <td>180.8</td>\n",
       "      <td>10.8</td>\n",
       "      <td>58.4</td>\n",
       "      <td>17.9</td>\n",
       "    </tr>\n",
       "    <tr>\n",
       "      <th>...</th>\n",
       "      <td>...</td>\n",
       "      <td>...</td>\n",
       "      <td>...</td>\n",
       "      <td>...</td>\n",
       "    </tr>\n",
       "    <tr>\n",
       "      <th>195</th>\n",
       "      <td>38.2</td>\n",
       "      <td>3.7</td>\n",
       "      <td>13.8</td>\n",
       "      <td>7.6</td>\n",
       "    </tr>\n",
       "    <tr>\n",
       "      <th>196</th>\n",
       "      <td>94.2</td>\n",
       "      <td>4.9</td>\n",
       "      <td>8.1</td>\n",
       "      <td>14.0</td>\n",
       "    </tr>\n",
       "    <tr>\n",
       "      <th>197</th>\n",
       "      <td>177.0</td>\n",
       "      <td>9.3</td>\n",
       "      <td>6.4</td>\n",
       "      <td>14.8</td>\n",
       "    </tr>\n",
       "    <tr>\n",
       "      <th>198</th>\n",
       "      <td>283.6</td>\n",
       "      <td>42.0</td>\n",
       "      <td>66.2</td>\n",
       "      <td>25.5</td>\n",
       "    </tr>\n",
       "    <tr>\n",
       "      <th>199</th>\n",
       "      <td>232.1</td>\n",
       "      <td>8.6</td>\n",
       "      <td>8.7</td>\n",
       "      <td>18.4</td>\n",
       "    </tr>\n",
       "  </tbody>\n",
       "</table>\n",
       "<p>200 rows × 4 columns</p>\n",
       "</div>"
      ],
      "text/plain": [
       "        TV  Radio  Newspaper  Sales\n",
       "0    230.1   37.8       69.2   22.1\n",
       "1     44.5   39.3       45.1   10.4\n",
       "2     17.2   45.9       69.3   12.0\n",
       "3    151.5   41.3       58.5   16.5\n",
       "4    180.8   10.8       58.4   17.9\n",
       "..     ...    ...        ...    ...\n",
       "195   38.2    3.7       13.8    7.6\n",
       "196   94.2    4.9        8.1   14.0\n",
       "197  177.0    9.3        6.4   14.8\n",
       "198  283.6   42.0       66.2   25.5\n",
       "199  232.1    8.6        8.7   18.4\n",
       "\n",
       "[200 rows x 4 columns]"
      ]
     },
     "execution_count": 3,
     "metadata": {},
     "output_type": "execute_result"
    }
   ],
   "source": [
    "df"
   ]
  },
  {
   "cell_type": "code",
   "execution_count": 4,
   "id": "ab158586-175b-4b59-a37a-81abe9ef0a8c",
   "metadata": {},
   "outputs": [
    {
     "data": {
      "image/png": "[encoded data removed]",
      "text/plain": [
       "<Figure size 640x480 with 1 Axes>"
      ]
     },
     "metadata": {},
     "output_type": "display_data"
    },
    {
     "name": "stdout",
     "output_type": "stream",
     "text": [
      "\n"
     ]
    },
    {
     "data": {
      "image/png": "[encoded data removed]",
      "text/plain": [
       "<Figure size 800x600 with 2 Axes>"
      ]
     },
     "metadata": {},
     "output_type": "display_data"
    }
   ],
   "source": [
    "plt.boxplot(df['Sales'])\n",
    "plt.title(\"Outliers\")\n",
    "plt.show()\n",
    "\n",
    "print(\"\")\n",
    "\n",
    "cor = df.corr()\n",
    "plt.figure(figsize=(8, 6))\n",
    "sns.heatmap(cor)\n",
    "plt.show()\n"
   ]
  },
  {
   "cell_type": "code",
   "execution_count": 5,
   "id": "837ef8aa-e988-45b7-8ba9-1e9709944516",
   "metadata": {},
   "outputs": [],
   "source": [
    "X=df[['TV', 'Radio', 'Newspaper']].values \n",
    "y=df['Sales'].values.reshape(-1,1)\n",
    "m = len(y)"
   ]
  },
  {
   "cell_type": "code",
   "execution_count": 6,
   "id": "1a98b657-fb6a-4c2c-a91c-c1d694822114",
   "metadata": {},
   "outputs": [],
   "source": [
    "X = np.c_[np.ones((m, 1)), X]"
   ]
  },
  {
   "cell_type": "code",
   "execution_count": 7,
   "id": "4d2a24b6-2bed-4b6c-9515-ffc313b18612",
   "metadata": {},
   "outputs": [],
   "source": [
    "s = int(0.8 * m)\n",
    "X_train, X_test = X[:s], X[s:]\n",
    "y_train, y_test = y[:s], y[s:]"
   ]
  },
  {
   "cell_type": "code",
   "execution_count": 8,
   "id": "01da48ba-1395-4092-aeb2-047ee35bd101",
   "metadata": {},
   "outputs": [],
   "source": [
    "def gradient_descent(X, y, learning_rate=1e-6, iterations=1000):\n",
    "    m, n = X.shape\n",
    "    theta = np.zeros((n, 1))\n",
    "    for i in range(iterations):\n",
    "        error = X @ theta - y\n",
    "        gradient = (1/m) * X.T @ error\n",
    "        theta -= learning_rate * gradient\n",
    "    return theta"
   ]
  },
  {
   "cell_type": "code",
   "execution_count": 9,
   "id": "d01f906b-c4c8-4a65-9a76-280c02637dd6",
   "metadata": {},
   "outputs": [],
   "source": [
    "theta = gradient_descent(X_train, y_train,iterations=2000)\n"
   ]
  },
  {
   "cell_type": "code",
   "execution_count": 10,
   "id": "e9a21ff8-1664-4789-a0a9-c5cc5ca17db0",
   "metadata": {},
   "outputs": [],
   "source": [
    "y_pred = X_test @ theta"
   ]
  },
  {
   "cell_type": "code",
   "execution_count": 11,
   "id": "5160256a-ffbd-499d-b54c-4c35697b56d7",
   "metadata": {},
   "outputs": [],
   "source": [
    "SS_res = np.sum((y_test - y_pred) ** 2)\n",
    "SS_tot = np.sum((y_test - np.mean(y_test)) ** 2)\n",
    "r2 = 1 - SS_res / SS_tot\n",
    "mse = np.mean((y_test - y_pred) ** 2)\n",
    "rmse = np.sqrt(mse)\n",
    "mae = np.mean(np.abs(y_test - y_pred))"
   ]
  },
  {
   "cell_type": "code",
   "execution_count": 12,
   "id": "4e917036-9419-4a1f-844d-a66958510901",
   "metadata": {},
   "outputs": [
    {
     "name": "stdout",
     "output_type": "stream",
     "text": [
      "[[0.00271986]\n",
      " [0.07222145]\n",
      " [0.0770371 ]\n",
      " [0.05839907]]\n",
      "0.6687991673643843\n",
      "8.954873562463522\n",
      "2.9924694756109913\n",
      "2.5836652482175793\n"
     ]
    }
   ],
   "source": [
    "print(theta)\n",
    "print(r2)\n",
    "print(mse)\n",
    "print(rmse)\n",
    "print(mae)"
   ]
  },
  {
   "cell_type": "markdown",
   "id": "881a3363-a17c-4a6c-a3c2-808c8ff13242",
   "metadata": {},
   "source": [
    "r^2 score is 0.6687 which says that the model is giving 66% of variation in the sales prediction. the model's performance is good,but can be improved by altering the learning rate,removing extreme outliers etc.."
   ]
  },
  {
   "cell_type": "code",
   "execution_count": 14,
   "id": "9892f76f-71ab-4fe4-9766-a85da9a7547c",
   "metadata": {},
   "outputs": [
    {
     "name": "stdout",
     "output_type": "stream",
     "text": [
      "           0\n",
      "0  13.231542\n",
      "1  21.755257\n",
      "2   6.168441\n",
      "3  29.422563\n",
      "4   8.287231\n"
     ]
    }
   ],
   "source": [
    "new_data = pd.DataFrame({\n",
    "    'TV': [150, 230, 50, 300, 100],\n",
    "    'Radio': [22, 44, 18, 40, 10],\n",
    "    'Newspaper': [12, 30, 20, 80, 5]\n",
    "})\n",
    "\n",
    "new_pred=theta[0]+(new_data @ theta[1:])\n",
    "print(new_pred)"
   ]
  },
  {
   "cell_type": "markdown",
   "id": "e256ea0a-ba34-475d-bee6-f3d727de5f2f",
   "metadata": {},
   "source": [
    "--------------------------------------------------------------------------        \n",
    "                          2ND QUESTION"
   ]
  },
  {
   "cell_type": "code",
   "execution_count": 16,
   "id": "25133e0b-7973-49e6-a4a0-356bb07d20ab",
   "metadata": {},
   "outputs": [],
   "source": [
    "df = pd.read_csv(\"Housing.csv\")"
   ]
  },
  {
   "cell_type": "code",
   "execution_count": 17,
   "id": "93d6979a-b717-40a5-abdf-1d85eb4ecd51",
   "metadata": {},
   "outputs": [],
   "source": [
    "df['mainroad'] = df['mainroad'].map({'yes': 1, 'no': 0})\n",
    "df['guestroom'] = df['guestroom'].map({'yes': 1, 'no': 0})\n",
    "df['basement'] = df['basement'].map({'yes': 1, 'no': 0})\n",
    "df['prefarea'] = df['prefarea'].map({'yes': 1, 'no': 0})\n",
    "df['hotwaterheating'] = df['hotwaterheating'].map({'yes': 1, 'no': 0})\n",
    "df['airconditioning'] = df['airconditioning'].map({'yes': 1, 'no': 0})\n",
    "df['furnishingstatus'] = df['furnishingstatus'].map({'furnished': 2, 'semi-furnished': 1, 'unfurnished': 0})"
   ]
  },
  {
   "cell_type": "code",
   "execution_count": 18,
   "id": "5fac6561-f083-4b84-8758-2885ae31a46e",
   "metadata": {},
   "outputs": [],
   "source": [
    "features = ['area', 'bedrooms', 'bathrooms', 'parking', 'mainroad', 'airconditioning', 'furnishingstatus']\n",
    "X_raw = df[features].values\n",
    "y = df['price'].values.reshape(-1, 1)"
   ]
  },
  {
   "cell_type": "code",
   "execution_count": 19,
   "id": "d590fa28-c159-4a37-9758-a98a5c799d2a",
   "metadata": {},
   "outputs": [],
   "source": [
    "X_mean = np.mean(X_raw, axis=0)\n",
    "X_std = np.std(X_raw, axis=0)\n",
    "X_norm = (X_raw - X_mean) / X_std"
   ]
  },
  {
   "cell_type": "code",
   "execution_count": 20,
   "id": "b55a57e2-bd95-47cd-8435-0ed394bf1c51",
   "metadata": {},
   "outputs": [],
   "source": [
    "X = np.hstack((np.ones((X_norm.shape[0], 1)), X_norm))"
   ]
  },
  {
   "cell_type": "code",
   "execution_count": 21,
   "id": "5ef2f078-368e-4fbb-8259-91c9048b4c80",
   "metadata": {},
   "outputs": [],
   "source": [
    "def grad_descent(X, y, lr=0.01, epochs=3000):\n",
    "    m = X.shape[0]\n",
    "    n = X.shape[1]\n",
    "    theta = np.zeros((n, 1))\n",
    "    losses = []\n",
    "\n",
    "    for i in range(epochs):\n",
    "        y_pred = X @ theta\n",
    "        error = y_pred - y\n",
    "        cost = (1 / (2 * m)) * np.sum(error ** 2)\n",
    "        losses.append(cost)\n",
    "\n",
    "        gradient = (1 / m) * (X.T @ error)\n",
    "        theta -= lr * gradient\n",
    "\n",
    "    return theta, losses"
   ]
  },
  {
   "cell_type": "code",
   "execution_count": 22,
   "id": "1ebf1b7f-d0ca-4a7d-939e-ba09b43dc6c4",
   "metadata": {},
   "outputs": [],
   "source": [
    "theta, losses = grad_descent(X, y, lr=0.01, epochs=3000)"
   ]
  },
  {
   "cell_type": "code",
   "execution_count": 23,
   "id": "61b8d0ca-97a0-4140-a258-e1826d08606d",
   "metadata": {},
   "outputs": [],
   "source": [
    "y_pred = X @ theta"
   ]
  },
  {
   "cell_type": "code",
   "execution_count": 24,
   "id": "a9f1682c-4697-4488-b9fe-68a24d464312",
   "metadata": {},
   "outputs": [],
   "source": [
    "ss_res = np.sum((y - y_pred) ** 2)\n",
    "ss_tot = np.sum((y - np.mean(y)) ** 2)\n",
    "r2_score = 1 - (ss_res / ss_tot)"
   ]
  },
  {
   "cell_type": "code",
   "execution_count": 25,
   "id": "40abef0f-17bd-4431-9d84-b926e0522ce4",
   "metadata": {},
   "outputs": [
    {
     "data": {
      "image/png": "[encoded data removed]",
      "text/plain": [
       "<Figure size 640x480 with 1 Axes>"
      ]
     },
     "metadata": {},
     "output_type": "display_data"
    }
   ],
   "source": [
    "plt.plot(losses)\n",
    "plt.xlabel(\"Epoch\")\n",
    "plt.ylabel(\"MSE Loss\")\n",
    "plt.title(\"Training Loss\")\n",
    "plt.grid(True)\n",
    "plt.show()"
   ]
  },
  {
   "cell_type": "code",
   "execution_count": 26,
   "id": "3e608271-33e9-420d-a60b-529f58692e44",
   "metadata": {},
   "outputs": [
    {
     "name": "stdout",
     "output_type": "stream",
     "text": [
      "[[4766729.24770604]\n",
      " [ 558897.83324269]\n",
      " [ 246256.42839187]\n",
      " [ 598325.86969943]\n",
      " [ 217525.98341018]\n",
      " [ 243305.04486601]\n",
      " [ 479112.12745722]\n",
      " [ 208527.57620797]]\n",
      "0.607843572555222\n"
     ]
    }
   ],
   "source": [
    "print( theta)\n",
    "print(r2_score)"
   ]
  },
  {
   "cell_type": "markdown",
   "id": "5b911871-5302-457c-bb64-04d8d4218a7b",
   "metadata": {},
   "source": [
    "r^2 score is 0.607 which says that the model is giving 60% of variation in the prices prediction. the model's performance is moderately good."
   ]
  },
  {
   "cell_type": "markdown",
   "id": "2145d2b1-0a16-41a1-9ae5-10b1aadf68a4",
   "metadata": {},
   "source": [
    "TO KNOW THE FACTORS AFFECTING THE HOUSE PRICES, WE SHOULD CHECK FOR CORRELATION."
   ]
  },
  {
   "cell_type": "code",
   "execution_count": 29,
   "id": "c2f63a96-60da-4887-b807-53ae0bf20f5c",
   "metadata": {},
   "outputs": [
    {
     "data": {
      "text/plain": [
       "hotwaterheating     0.093073\n",
       "basement            0.187057\n",
       "guestroom           0.255517\n",
       "mainroad            0.296898\n",
       "furnishingstatus    0.304721\n",
       "prefarea            0.329777\n",
       "bedrooms            0.366494\n",
       "parking             0.384394\n",
       "stories             0.420712\n",
       "airconditioning     0.452954\n",
       "bathrooms           0.517545\n",
       "area                0.535997\n",
       "price               1.000000\n",
       "Name: price, dtype: float64"
      ]
     },
     "execution_count": 29,
     "metadata": {},
     "output_type": "execute_result"
    }
   ],
   "source": [
    "df.corr()['price'].sort_values()"
   ]
  },
  {
   "cell_type": "markdown",
   "id": "e71d99cc-3404-4aeb-b353-f4a40ce116cf",
   "metadata": {},
   "source": [
    "THE FACTORS AFFECTING PRICES, WILL HAVE HIGH CORRELATION WITH PRICES. SO, FACTORS LIKE area,bathrooms,airconditioning,stories,parking,bedrooms,prefarea AFFECT HOUSE PRICES SIGNIFICANTLY"
   ]
  }
 ],
 "metadata": {
  "kernelspec": {
   "display_name": "Python 3 (ipykernel)",
   "language": "python",
   "name": "python3"
  },
  "language_info": {
   "codemirror_mode": {
    "name": "ipython",
    "version": 3
   },
   "file_extension": ".py",
   "mimetype": "text/x-python",
   "name": "python",
   "nbconvert_exporter": "python",
   "pygments_lexer": "ipython3",
   "version": "3.11.7"
  }
 },
 "nbformat": 4,
 "nbformat_minor": 5
}
