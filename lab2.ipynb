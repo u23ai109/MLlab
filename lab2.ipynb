{
 "cells": [
  {
   "cell_type": "code",
   "execution_count": 1,
   "id": "14df87b6-e7be-48ac-bb2f-d0449006a857",
   "metadata": {},
   "outputs": [],
   "source": [
    "import csv\n",
    "import math\n",
    "\n",
    "file='/Users/tej/Desktop/labs/ml/lab1/advertising.csv'\n",
    "data=[]\n",
    "with open(file,'r') as f:\n",
    "    reader=csv.reader(f)\n",
    "    header=next(reader)\n",
    "    for row in reader:\n",
    "        data.append([float(x) if x!='' else 0 for x in row])"
   ]
  },
  {
   "cell_type": "code",
   "execution_count": 2,
   "id": "002da298-8b2f-4819-a6d0-136a90f83ff9",
   "metadata": {},
   "outputs": [],
   "source": [
    "def scale(data):\n",
    "    rows, cols = len(data), len(data[0])\n",
    "    scaled = [[0]*cols for _ in range(rows)]\n",
    "    for j in range(cols):\n",
    "        col = [data[i][j] for i in range(rows)]\n",
    "        mean = sum(col) / rows\n",
    "        std = math.sqrt(sum((x - mean)**2 for x in col) / rows)\n",
    "        for i in range(rows):\n",
    "            scaled[i][j] = (data[i][j] - mean) / std\n",
    "    return scaled"
   ]
  },
  {
   "cell_type": "code",
   "execution_count": 3,
   "id": "b177e478-cfcb-456b-ba61-801d75531056",
   "metadata": {},
   "outputs": [],
   "source": [
    "def train_test_split(X, y, test_ratio=0.2):\n",
    "    split = int(len(X) * (1 - test_ratio))\n",
    "    return X[:split], X[split:], y[:split], y[split:]"
   ]
  },
  {
   "cell_type": "code",
   "execution_count": 4,
   "id": "92986758-d2ef-4b75-98fe-f257d786b261",
   "metadata": {},
   "outputs": [],
   "source": [
    "def remove_outliers(data):\n",
    "    cols = len(data[0])\n",
    "    keep_rows = [True] * len(data)\n",
    "    for j in range(cols):\n",
    "        col = [row[j] for row in data]\n",
    "        Q1 = percentile(col, 25)\n",
    "        Q3 = percentile(col, 75)\n",
    "        IQR = Q3 - Q1\n",
    "        for i in range(len(col)):\n",
    "            if col[i] < Q1 - 1.5 * IQR or col[i] > Q3 + 1.5 * IQR:\n",
    "                keep_rows[i] = False\n",
    "    return [row for i, row in enumerate(data) if keep_rows[i]]\n",
    "\n",
    "def percentile(values, percent):\n",
    "    values = sorted(values)\n",
    "    k = (len(values)-1) * percent/100\n",
    "    f = math.floor(k)\n",
    "    c = math.ceil(k)\n",
    "    if f == c:\n",
    "        return values[int(k)]\n",
    "    return values[f] + (values[c] - values[f]) * (k - f)"
   ]
  },
  {
   "cell_type": "code",
   "execution_count": 5,
   "id": "ecc82a7c-0a21-4f9f-88dc-2d6e10772bb3",
   "metadata": {},
   "outputs": [],
   "source": [
    "def predict(X, weights, bias):\n",
    "    preds = []\n",
    "    for row in X:\n",
    "        pred = sum(row[j] * weights[j] for j in range(len(row))) + bias\n",
    "        preds.append(pred)\n",
    "    return preds"
   ]
  },
  {
   "cell_type": "code",
   "execution_count": 6,
   "id": "e4c68381-3195-49b6-8ae0-43bfe4d434cb",
   "metadata": {},
   "outputs": [],
   "source": [
    "def gradient_descent(X, y, lr=0.01, epochs=1000):\n",
    "    rows, cols = len(X), len(X[0])\n",
    "    weights = [0.0] * cols\n",
    "    bias = 0.0\n",
    "\n",
    "    for _ in range(epochs):\n",
    "        y_pred = predict(X, weights, bias)\n",
    "        dw = [0.0] * cols\n",
    "        db = 0.0\n",
    "        for i in range(rows):\n",
    "            error = y_pred[i] - y[i]\n",
    "            for j in range(cols):\n",
    "                dw[j] += (error * X[i][j]) / rows\n",
    "            db += error / rows\n",
    "        for j in range(cols):\n",
    "            weights[j] -= lr * dw[j]\n",
    "        bias -= lr * db\n",
    "    return weights, bias"
   ]
  },
  {
   "cell_type": "code",
   "execution_count": 7,
   "id": "a9676cb9-943a-4bdb-91af-a7a2155e2c99",
   "metadata": {},
   "outputs": [],
   "source": [
    "def r2_score(y_true, y_pred):\n",
    "    mean_y = sum(y_true) / len(y_true)\n",
    "    ss_tot = sum((y - mean_y) ** 2 for y in y_true)\n",
    "    ss_res = sum((y_true[i] - y_pred[i]) ** 2 for i in range(len(y_true)))\n",
    "    return 1 - (ss_res / ss_tot)"
   ]
  },
  {
   "cell_type": "code",
   "execution_count": 8,
   "id": "4cd1387e-08c7-4c3e-8dd4-13db46629b2e",
   "metadata": {},
   "outputs": [],
   "source": [
    "X = [row[:-1] for row in data]\n",
    "y = [row[-1] for row in data]"
   ]
  },
  {
   "cell_type": "code",
   "execution_count": 9,
   "id": "c1fc585d-68ca-456d-aa79-69a39ec20d2f",
   "metadata": {},
   "outputs": [],
   "source": [
    "X_scaled=scale(X)\n",
    "y_mean = sum(y) / len(y)\n",
    "y_std = math.sqrt(sum((yi - y_mean) ** 2 for yi in y) / len(y))\n",
    "y_scaled = [(yi - y_mean) / y_std for yi in y]"
   ]
  },
  {
   "cell_type": "code",
   "execution_count": 10,
   "id": "45c05593-3569-4b61-8b19-5b6a3fcaee16",
   "metadata": {},
   "outputs": [],
   "source": [
    "X_train, X_test, y_train, y_test = train_test_split(X_scaled, y_scaled)"
   ]
  },
  {
   "cell_type": "code",
   "execution_count": 11,
   "id": "49fe0ef7-b577-422a-9748-8e42eb3322d5",
   "metadata": {},
   "outputs": [],
   "source": [
    "theta,b=gradient_descent(X_train,y_train)"
   ]
  },
  {
   "cell_type": "code",
   "execution_count": 12,
   "id": "1b01e7e5-d5c4-4d7e-807f-7c172b1195a2",
   "metadata": {},
   "outputs": [],
   "source": [
    "y_pred =predict(X_test,theta,b)"
   ]
  },
  {
   "cell_type": "code",
   "execution_count": 13,
   "id": "258dfdd8-45e2-4d67-a1eb-db83f395f81e",
   "metadata": {},
   "outputs": [],
   "source": [
    "r2_bef=r2_score(y_test,y_pred)"
   ]
  },
  {
   "cell_type": "code",
   "execution_count": 14,
   "id": "4134c2df-d714-45bf-8fae-c2e9f2ab6a3f",
   "metadata": {},
   "outputs": [],
   "source": [
    "no_outliers=remove_outliers(data)\n",
    "X_no=[row[:-1] for row in no_outliers]\n",
    "y_no=[row[-1] for row in no_outliers]"
   ]
  },
  {
   "cell_type": "code",
   "execution_count": 15,
   "id": "f0884b5d-36df-4448-9c90-4a418690add8",
   "metadata": {},
   "outputs": [],
   "source": [
    "X_scaled_no=scale(X_no)\n",
    "y_mean_no = sum(y_no) / len(y_no)\n",
    "y_std_no = math.sqrt(sum((yi - y_mean_no) ** 2 for yi in y_no) / len(y_no))\n",
    "y_scaled_no = [(yi - y_mean_no) / y_std_no for yi in y_no]"
   ]
  },
  {
   "cell_type": "code",
   "execution_count": 16,
   "id": "75ee6f72-e738-4c72-ba39-9a551bf8d0d3",
   "metadata": {},
   "outputs": [],
   "source": [
    "X_train_no, X_test_no, y_train_no, y_test_no = train_test_split(X_scaled_no, y_scaled_no)"
   ]
  },
  {
   "cell_type": "code",
   "execution_count": 17,
   "id": "a692a15b-ff4b-4e1e-8a8c-10b48f2cac11",
   "metadata": {},
   "outputs": [],
   "source": [
    "theta_no,b_no=gradient_descent(X_train_no,y_train_no)"
   ]
  },
  {
   "cell_type": "code",
   "execution_count": 18,
   "id": "7a5186b1-cf24-4ae9-bcd6-b9af77b89e65",
   "metadata": {},
   "outputs": [],
   "source": [
    "y_pred_no =predict(X_test_no,theta_no,b_no)"
   ]
  },
  {
   "cell_type": "code",
   "execution_count": 19,
   "id": "7c220782-7e48-4d5c-8d9d-416b4c573961",
   "metadata": {},
   "outputs": [],
   "source": [
    "r2_after=r2_score(y_test_no,y_pred_no)"
   ]
  },
  {
   "cell_type": "code",
   "execution_count": 20,
   "id": "0c5179d9-474e-469d-81f8-b361d6096664",
   "metadata": {},
   "outputs": [
    {
     "name": "stdout",
     "output_type": "stream",
     "text": [
      "before: 0.902446534309072\n",
      "after: 0.9020702618376557\n"
     ]
    }
   ],
   "source": [
    "print(\"before:\",r2_bef)\n",
    "print(\"after:\",r2_after)"
   ]
  },
  {
   "cell_type": "markdown",
   "id": "e499a4dc-562c-4e45-aefb-92f2131083ad",
   "metadata": {},
   "source": [
    "-----------------------------------2nd question----------------------------------------------------------"
   ]
  },
  {
   "cell_type": "code",
   "execution_count": 22,
   "id": "4dcc5c79-5462-4f9b-a56e-b8ebbe8eab2b",
   "metadata": {},
   "outputs": [],
   "source": [
    "import pandas as pd"
   ]
  },
  {
   "cell_type": "code",
   "execution_count": 23,
   "id": "acbb7a2a-2e55-4123-9799-6c2284092f19",
   "metadata": {},
   "outputs": [],
   "source": [
    "df_av = pd.read_csv('faa_ai_prelim.csv')"
   ]
  },
  {
   "cell_type": "code",
   "execution_count": 80,
   "id": "58a4dee5-1d97-4fda-9173-06c099202505",
   "metadata": {},
   "outputs": [
    {
     "data": {
      "text/html": [
       "<div>\n",
       "<style scoped>\n",
       "    .dataframe tbody tr th:only-of-type {\n",
       "        vertical-align: middle;\n",
       "    }\n",
       "\n",
       "    .dataframe tbody tr th {\n",
       "        vertical-align: top;\n",
       "    }\n",
       "\n",
       "    .dataframe thead th {\n",
       "        text-align: right;\n",
       "    }\n",
       "</style>\n",
       "<table border=\"1\" class=\"dataframe\">\n",
       "  <thead>\n",
       "    <tr style=\"text-align: right;\">\n",
       "      <th></th>\n",
       "      <th>UPDATED</th>\n",
       "      <th>ENTRY_DATE</th>\n",
       "      <th>EVENT_LCL_DATE</th>\n",
       "      <th>EVENT_LCL_TIME</th>\n",
       "      <th>LOC_CITY_NAME</th>\n",
       "      <th>LOC_STATE_NAME</th>\n",
       "      <th>LOC_CNTRY_NAME</th>\n",
       "      <th>RMK_TEXT</th>\n",
       "      <th>EVENT_TYPE_DESC</th>\n",
       "      <th>FSDO_DESC</th>\n",
       "      <th>...</th>\n",
       "      <th>PAX_INJ_MINOR</th>\n",
       "      <th>PAX_INJ_SERIOUS</th>\n",
       "      <th>PAX_INJ_FATAL</th>\n",
       "      <th>PAX_INJ_UNK</th>\n",
       "      <th>GRND_INJ_NONE</th>\n",
       "      <th>GRND_INJ_MINOR</th>\n",
       "      <th>GRND_INJ_SERIOUS</th>\n",
       "      <th>GRND_INJ_FATAL</th>\n",
       "      <th>GRND_INJ_UNK</th>\n",
       "      <th>EVENT_DATETIME</th>\n",
       "    </tr>\n",
       "  </thead>\n",
       "  <tbody>\n",
       "    <tr>\n",
       "      <th>0</th>\n",
       "      <td>No</td>\n",
       "      <td>19-FEB-16</td>\n",
       "      <td>19-FEB-16</td>\n",
       "      <td>00:45:00</td>\n",
       "      <td>MARSHVILLE</td>\n",
       "      <td>North Carolina</td>\n",
       "      <td>NaN</td>\n",
       "      <td>AIRCRAFT CRASHED INTO TREES, THE 1 PERSON ON B...</td>\n",
       "      <td>Accident</td>\n",
       "      <td>FAA Charlotte FSDO-68</td>\n",
       "      <td>...</td>\n",
       "      <td>NaN</td>\n",
       "      <td>NaN</td>\n",
       "      <td>NaN</td>\n",
       "      <td>NaN</td>\n",
       "      <td>NaN</td>\n",
       "      <td>NaN</td>\n",
       "      <td>NaN</td>\n",
       "      <td>NaN</td>\n",
       "      <td>NaN</td>\n",
       "      <td>2016-02-19 00:45:00</td>\n",
       "    </tr>\n",
       "    <tr>\n",
       "      <th>1</th>\n",
       "      <td>No</td>\n",
       "      <td>19-FEB-16</td>\n",
       "      <td>18-FEB-16</td>\n",
       "      <td>23:55:00</td>\n",
       "      <td>TAVERNIER</td>\n",
       "      <td>Florida</td>\n",
       "      <td>NaN</td>\n",
       "      <td>AIRCRAFT ON LANDING WENT OFF THE END OF THE RU...</td>\n",
       "      <td>Incident</td>\n",
       "      <td>FAA Miami FSDO-19</td>\n",
       "      <td>...</td>\n",
       "      <td>NaN</td>\n",
       "      <td>NaN</td>\n",
       "      <td>NaN</td>\n",
       "      <td>NaN</td>\n",
       "      <td>NaN</td>\n",
       "      <td>NaN</td>\n",
       "      <td>NaN</td>\n",
       "      <td>NaN</td>\n",
       "      <td>NaN</td>\n",
       "      <td>2016-02-18 23:55:00</td>\n",
       "    </tr>\n",
       "    <tr>\n",
       "      <th>2</th>\n",
       "      <td>No</td>\n",
       "      <td>19-FEB-16</td>\n",
       "      <td>18-FEB-16</td>\n",
       "      <td>22:14:00</td>\n",
       "      <td>TRENTON</td>\n",
       "      <td>New Jersey</td>\n",
       "      <td>NaN</td>\n",
       "      <td>AIRCRAFT ON FINAL SUSTAINED A BIRD STRIKE, LAN...</td>\n",
       "      <td>Incident</td>\n",
       "      <td>FAA Philadelphia FSDO-17</td>\n",
       "      <td>...</td>\n",
       "      <td>NaN</td>\n",
       "      <td>NaN</td>\n",
       "      <td>NaN</td>\n",
       "      <td>NaN</td>\n",
       "      <td>NaN</td>\n",
       "      <td>NaN</td>\n",
       "      <td>NaN</td>\n",
       "      <td>NaN</td>\n",
       "      <td>NaN</td>\n",
       "      <td>2016-02-18 22:14:00</td>\n",
       "    </tr>\n",
       "    <tr>\n",
       "      <th>3</th>\n",
       "      <td>No</td>\n",
       "      <td>19-FEB-16</td>\n",
       "      <td>18-FEB-16</td>\n",
       "      <td>17:10:00</td>\n",
       "      <td>ASHEVILLE</td>\n",
       "      <td>North Carolina</td>\n",
       "      <td>NaN</td>\n",
       "      <td>AIRCRAFT ON LANDING, GEAR COLLAPSED, ASHEVILLE...</td>\n",
       "      <td>Incident</td>\n",
       "      <td>FAA Charlotte FSDO-68</td>\n",
       "      <td>...</td>\n",
       "      <td>NaN</td>\n",
       "      <td>NaN</td>\n",
       "      <td>NaN</td>\n",
       "      <td>NaN</td>\n",
       "      <td>NaN</td>\n",
       "      <td>NaN</td>\n",
       "      <td>NaN</td>\n",
       "      <td>NaN</td>\n",
       "      <td>NaN</td>\n",
       "      <td>2016-02-18 17:10:00</td>\n",
       "    </tr>\n",
       "    <tr>\n",
       "      <th>4</th>\n",
       "      <td>No</td>\n",
       "      <td>19-FEB-16</td>\n",
       "      <td>18-FEB-16</td>\n",
       "      <td>00:26:00</td>\n",
       "      <td>TALKEETNA</td>\n",
       "      <td>Alaska</td>\n",
       "      <td>NaN</td>\n",
       "      <td>AIRCRAFT ON LANDING, NOSE GEAR COLLAPSED, TALK...</td>\n",
       "      <td>Incident</td>\n",
       "      <td>FAA Anchorage FSDO-03</td>\n",
       "      <td>...</td>\n",
       "      <td>1.0</td>\n",
       "      <td>NaN</td>\n",
       "      <td>NaN</td>\n",
       "      <td>NaN</td>\n",
       "      <td>NaN</td>\n",
       "      <td>NaN</td>\n",
       "      <td>NaN</td>\n",
       "      <td>NaN</td>\n",
       "      <td>NaN</td>\n",
       "      <td>2016-02-18 00:26:00</td>\n",
       "    </tr>\n",
       "    <tr>\n",
       "      <th>...</th>\n",
       "      <td>...</td>\n",
       "      <td>...</td>\n",
       "      <td>...</td>\n",
       "      <td>...</td>\n",
       "      <td>...</td>\n",
       "      <td>...</td>\n",
       "      <td>...</td>\n",
       "      <td>...</td>\n",
       "      <td>...</td>\n",
       "      <td>...</td>\n",
       "      <td>...</td>\n",
       "      <td>...</td>\n",
       "      <td>...</td>\n",
       "      <td>...</td>\n",
       "      <td>...</td>\n",
       "      <td>...</td>\n",
       "      <td>...</td>\n",
       "      <td>...</td>\n",
       "      <td>...</td>\n",
       "      <td>...</td>\n",
       "      <td>...</td>\n",
       "    </tr>\n",
       "    <tr>\n",
       "      <th>78</th>\n",
       "      <td>No</td>\n",
       "      <td>08-FEB-16</td>\n",
       "      <td>31-DEC-15</td>\n",
       "      <td>17:00:00</td>\n",
       "      <td>SAN ANTONIO</td>\n",
       "      <td>Texas</td>\n",
       "      <td>NaN</td>\n",
       "      <td>AIRCRAFT ON LANDING, GROUND LOOPED, BULVERDE A...</td>\n",
       "      <td>Accident</td>\n",
       "      <td>FAA San Antonio FSDO-17</td>\n",
       "      <td>...</td>\n",
       "      <td>NaN</td>\n",
       "      <td>NaN</td>\n",
       "      <td>NaN</td>\n",
       "      <td>NaN</td>\n",
       "      <td>NaN</td>\n",
       "      <td>NaN</td>\n",
       "      <td>NaN</td>\n",
       "      <td>NaN</td>\n",
       "      <td>NaN</td>\n",
       "      <td>2015-12-31 17:00:00</td>\n",
       "    </tr>\n",
       "    <tr>\n",
       "      <th>79</th>\n",
       "      <td>No</td>\n",
       "      <td>08-FEB-16</td>\n",
       "      <td>05-FEB-16</td>\n",
       "      <td>11:17:00</td>\n",
       "      <td>MARICOPA</td>\n",
       "      <td>Arizona</td>\n",
       "      <td>NaN</td>\n",
       "      <td>AIRCRAFT CRASHED UNDER UNKNOWN CIRCUMSTANCES, ...</td>\n",
       "      <td>Accident</td>\n",
       "      <td>FAA Scottsdale FSDO-07</td>\n",
       "      <td>...</td>\n",
       "      <td>NaN</td>\n",
       "      <td>NaN</td>\n",
       "      <td>NaN</td>\n",
       "      <td>NaN</td>\n",
       "      <td>NaN</td>\n",
       "      <td>NaN</td>\n",
       "      <td>NaN</td>\n",
       "      <td>NaN</td>\n",
       "      <td>NaN</td>\n",
       "      <td>2016-02-05 11:17:00</td>\n",
       "    </tr>\n",
       "    <tr>\n",
       "      <th>80</th>\n",
       "      <td>No</td>\n",
       "      <td>08-FEB-16</td>\n",
       "      <td>05-FEB-16</td>\n",
       "      <td>23:02:00</td>\n",
       "      <td>SAN PEDRO</td>\n",
       "      <td>California</td>\n",
       "      <td>NaN</td>\n",
       "      <td>N9872R, BEECH M35 AIRCRAFT, AND N5057G, BELLAN...</td>\n",
       "      <td>Accident</td>\n",
       "      <td>FAA Long Beach FSDO-05</td>\n",
       "      <td>...</td>\n",
       "      <td>NaN</td>\n",
       "      <td>NaN</td>\n",
       "      <td>NaN</td>\n",
       "      <td>NaN</td>\n",
       "      <td>NaN</td>\n",
       "      <td>NaN</td>\n",
       "      <td>NaN</td>\n",
       "      <td>NaN</td>\n",
       "      <td>NaN</td>\n",
       "      <td>2016-02-05 23:02:00</td>\n",
       "    </tr>\n",
       "    <tr>\n",
       "      <th>81</th>\n",
       "      <td>No</td>\n",
       "      <td>08-FEB-16</td>\n",
       "      <td>05-FEB-16</td>\n",
       "      <td>23:02:00</td>\n",
       "      <td>SAN PEDRO</td>\n",
       "      <td>California</td>\n",
       "      <td>NaN</td>\n",
       "      <td>N9872R, BEECH M35 AIRCRAFT, AND N5057G, BELLAN...</td>\n",
       "      <td>Accident</td>\n",
       "      <td>FAA Long Beach FSDO-05</td>\n",
       "      <td>...</td>\n",
       "      <td>NaN</td>\n",
       "      <td>NaN</td>\n",
       "      <td>NaN</td>\n",
       "      <td>NaN</td>\n",
       "      <td>NaN</td>\n",
       "      <td>NaN</td>\n",
       "      <td>NaN</td>\n",
       "      <td>NaN</td>\n",
       "      <td>NaN</td>\n",
       "      <td>2016-02-05 23:02:00</td>\n",
       "    </tr>\n",
       "    <tr>\n",
       "      <th>82</th>\n",
       "      <td>Yes</td>\n",
       "      <td>02-FEB-16</td>\n",
       "      <td>02-FEB-16</td>\n",
       "      <td>01:52:00</td>\n",
       "      <td>MOBILE</td>\n",
       "      <td>Alabama</td>\n",
       "      <td>NaN</td>\n",
       "      <td>N784CP AIRCRAFT CRASHED INTO A WOODED AREA NEA...</td>\n",
       "      <td>Accident</td>\n",
       "      <td>FAA Birmingham FSDO-09</td>\n",
       "      <td>...</td>\n",
       "      <td>NaN</td>\n",
       "      <td>NaN</td>\n",
       "      <td>NaN</td>\n",
       "      <td>NaN</td>\n",
       "      <td>NaN</td>\n",
       "      <td>NaN</td>\n",
       "      <td>NaN</td>\n",
       "      <td>NaN</td>\n",
       "      <td>NaN</td>\n",
       "      <td>2016-02-02 01:52:00</td>\n",
       "    </tr>\n",
       "  </tbody>\n",
       "</table>\n",
       "<p>83 rows × 43 columns</p>\n",
       "</div>"
      ],
      "text/plain": [
       "   UPDATED ENTRY_DATE EVENT_LCL_DATE EVENT_LCL_TIME LOC_CITY_NAME  \\\n",
       "0       No  19-FEB-16      19-FEB-16       00:45:00    MARSHVILLE   \n",
       "1       No  19-FEB-16      18-FEB-16       23:55:00     TAVERNIER   \n",
       "2       No  19-FEB-16      18-FEB-16       22:14:00       TRENTON   \n",
       "3       No  19-FEB-16      18-FEB-16       17:10:00     ASHEVILLE   \n",
       "4       No  19-FEB-16      18-FEB-16       00:26:00     TALKEETNA   \n",
       "..     ...        ...            ...            ...           ...   \n",
       "78      No  08-FEB-16      31-DEC-15       17:00:00   SAN ANTONIO   \n",
       "79      No  08-FEB-16      05-FEB-16       11:17:00      MARICOPA   \n",
       "80      No  08-FEB-16      05-FEB-16       23:02:00     SAN PEDRO   \n",
       "81      No  08-FEB-16      05-FEB-16       23:02:00     SAN PEDRO   \n",
       "82     Yes  02-FEB-16      02-FEB-16       01:52:00        MOBILE   \n",
       "\n",
       "    LOC_STATE_NAME LOC_CNTRY_NAME  \\\n",
       "0   North Carolina            NaN   \n",
       "1          Florida            NaN   \n",
       "2       New Jersey            NaN   \n",
       "3   North Carolina            NaN   \n",
       "4           Alaska            NaN   \n",
       "..             ...            ...   \n",
       "78           Texas            NaN   \n",
       "79         Arizona            NaN   \n",
       "80      California            NaN   \n",
       "81      California            NaN   \n",
       "82         Alabama            NaN   \n",
       "\n",
       "                                             RMK_TEXT EVENT_TYPE_DESC  \\\n",
       "0   AIRCRAFT CRASHED INTO TREES, THE 1 PERSON ON B...        Accident   \n",
       "1   AIRCRAFT ON LANDING WENT OFF THE END OF THE RU...        Incident   \n",
       "2   AIRCRAFT ON FINAL SUSTAINED A BIRD STRIKE, LAN...        Incident   \n",
       "3   AIRCRAFT ON LANDING, GEAR COLLAPSED, ASHEVILLE...        Incident   \n",
       "4   AIRCRAFT ON LANDING, NOSE GEAR COLLAPSED, TALK...        Incident   \n",
       "..                                                ...             ...   \n",
       "78  AIRCRAFT ON LANDING, GROUND LOOPED, BULVERDE A...        Accident   \n",
       "79  AIRCRAFT CRASHED UNDER UNKNOWN CIRCUMSTANCES, ...        Accident   \n",
       "80  N9872R, BEECH M35 AIRCRAFT, AND N5057G, BELLAN...        Accident   \n",
       "81  N9872R, BEECH M35 AIRCRAFT, AND N5057G, BELLAN...        Accident   \n",
       "82  N784CP AIRCRAFT CRASHED INTO A WOODED AREA NEA...        Accident   \n",
       "\n",
       "                   FSDO_DESC  ... PAX_INJ_MINOR PAX_INJ_SERIOUS PAX_INJ_FATAL  \\\n",
       "0      FAA Charlotte FSDO-68  ...           NaN             NaN           NaN   \n",
       "1          FAA Miami FSDO-19  ...           NaN             NaN           NaN   \n",
       "2   FAA Philadelphia FSDO-17  ...           NaN             NaN           NaN   \n",
       "3      FAA Charlotte FSDO-68  ...           NaN             NaN           NaN   \n",
       "4      FAA Anchorage FSDO-03  ...           1.0             NaN           NaN   \n",
       "..                       ...  ...           ...             ...           ...   \n",
       "78   FAA San Antonio FSDO-17  ...           NaN             NaN           NaN   \n",
       "79    FAA Scottsdale FSDO-07  ...           NaN             NaN           NaN   \n",
       "80    FAA Long Beach FSDO-05  ...           NaN             NaN           NaN   \n",
       "81    FAA Long Beach FSDO-05  ...           NaN             NaN           NaN   \n",
       "82    FAA Birmingham FSDO-09  ...           NaN             NaN           NaN   \n",
       "\n",
       "   PAX_INJ_UNK GRND_INJ_NONE  GRND_INJ_MINOR GRND_INJ_SERIOUS GRND_INJ_FATAL  \\\n",
       "0          NaN           NaN             NaN              NaN            NaN   \n",
       "1          NaN           NaN             NaN              NaN            NaN   \n",
       "2          NaN           NaN             NaN              NaN            NaN   \n",
       "3          NaN           NaN             NaN              NaN            NaN   \n",
       "4          NaN           NaN             NaN              NaN            NaN   \n",
       "..         ...           ...             ...              ...            ...   \n",
       "78         NaN           NaN             NaN              NaN            NaN   \n",
       "79         NaN           NaN             NaN              NaN            NaN   \n",
       "80         NaN           NaN             NaN              NaN            NaN   \n",
       "81         NaN           NaN             NaN              NaN            NaN   \n",
       "82         NaN           NaN             NaN              NaN            NaN   \n",
       "\n",
       "   GRND_INJ_UNK      EVENT_DATETIME  \n",
       "0           NaN 2016-02-19 00:45:00  \n",
       "1           NaN 2016-02-18 23:55:00  \n",
       "2           NaN 2016-02-18 22:14:00  \n",
       "3           NaN 2016-02-18 17:10:00  \n",
       "4           NaN 2016-02-18 00:26:00  \n",
       "..          ...                 ...  \n",
       "78          NaN 2015-12-31 17:00:00  \n",
       "79          NaN 2016-02-05 11:17:00  \n",
       "80          NaN 2016-02-05 23:02:00  \n",
       "81          NaN 2016-02-05 23:02:00  \n",
       "82          NaN 2016-02-02 01:52:00  \n",
       "\n",
       "[83 rows x 43 columns]"
      ]
     },
     "execution_count": 80,
     "metadata": {},
     "output_type": "execute_result"
    }
   ],
   "source": [
    "df_av"
   ]
  },
  {
   "cell_type": "code",
   "execution_count": 24,
   "id": "32e330b8-7b31-4e39-b0d4-a6e635aca34d",
   "metadata": {},
   "outputs": [],
   "source": [
    "df_av['EVENT_LCL_TIME'] = df_av['EVENT_LCL_TIME'].str.replace('Z', '', regex=False)\n",
    "df_av['EVENT_DATETIME'] = pd.to_datetime(df_av['EVENT_LCL_DATE'] + ' ' + df_av['EVENT_LCL_TIME'],errors='coerce', format='%d-%b-%y %H:%M:%S')"
   ]
  },
  {
   "cell_type": "code",
   "execution_count": 25,
   "id": "9d5fc913-7adc-4372-be35-5a6a2275c285",
   "metadata": {},
   "outputs": [],
   "source": [
    "columns_needed = [\n",
    "    'EVENT_DATETIME',\n",
    "    'ACFT_MAKE_NAME',\n",
    "    'LOC_STATE_NAME',\n",
    "    'ACFT_MODEL_NAME',\n",
    "    'RMK_TEXT',\n",
    "    'FLT_PHASE',\n",
    "    'EVENT_TYPE_DESC',\n",
    "    'FATAL_FLAG',\n",
    "    'ACFT_DMG_DESC'\n",
    "]\n",
    "new_df = df_av[columns_needed].copy()"
   ]
  },
  {
   "cell_type": "code",
   "execution_count": 26,
   "id": "587c407c-185f-449d-865d-741a802f61f9",
   "metadata": {},
   "outputs": [
    {
     "data": {
      "text/plain": [
       "(83, 9)"
      ]
     },
     "execution_count": 26,
     "metadata": {},
     "output_type": "execute_result"
    }
   ],
   "source": [
    "new_df.shape"
   ]
  },
  {
   "cell_type": "code",
   "execution_count": 27,
   "id": "eaeec1a5-88fd-4702-b2a5-9ee1f8f04480",
   "metadata": {},
   "outputs": [
    {
     "name": "stdout",
     "output_type": "stream",
     "text": [
      "<class 'pandas.core.frame.DataFrame'>\n",
      "RangeIndex: 83 entries, 0 to 82\n",
      "Data columns (total 9 columns):\n",
      " #   Column           Non-Null Count  Dtype         \n",
      "---  ------           --------------  -----         \n",
      " 0   EVENT_DATETIME   83 non-null     datetime64[ns]\n",
      " 1   ACFT_MAKE_NAME   78 non-null     object        \n",
      " 2   LOC_STATE_NAME   83 non-null     object        \n",
      " 3   ACFT_MODEL_NAME  79 non-null     object        \n",
      " 4   RMK_TEXT         83 non-null     object        \n",
      " 5   FLT_PHASE        82 non-null     object        \n",
      " 6   EVENT_TYPE_DESC  83 non-null     object        \n",
      " 7   FATAL_FLAG       8 non-null      object        \n",
      " 8   ACFT_DMG_DESC    74 non-null     object        \n",
      "dtypes: datetime64[ns](1), object(8)\n",
      "memory usage: 6.0+ KB\n"
     ]
    },
    {
     "data": {
      "text/html": [
       "<div>\n",
       "<style scoped>\n",
       "    .dataframe tbody tr th:only-of-type {\n",
       "        vertical-align: middle;\n",
       "    }\n",
       "\n",
       "    .dataframe tbody tr th {\n",
       "        vertical-align: top;\n",
       "    }\n",
       "\n",
       "    .dataframe thead th {\n",
       "        text-align: right;\n",
       "    }\n",
       "</style>\n",
       "<table border=\"1\" class=\"dataframe\">\n",
       "  <thead>\n",
       "    <tr style=\"text-align: right;\">\n",
       "      <th></th>\n",
       "      <th>EVENT_DATETIME</th>\n",
       "      <th>ACFT_MAKE_NAME</th>\n",
       "      <th>LOC_STATE_NAME</th>\n",
       "      <th>ACFT_MODEL_NAME</th>\n",
       "      <th>RMK_TEXT</th>\n",
       "      <th>FLT_PHASE</th>\n",
       "      <th>EVENT_TYPE_DESC</th>\n",
       "      <th>FATAL_FLAG</th>\n",
       "      <th>ACFT_DMG_DESC</th>\n",
       "    </tr>\n",
       "  </thead>\n",
       "  <tbody>\n",
       "    <tr>\n",
       "      <th>0</th>\n",
       "      <td>2016-02-19 00:45:00</td>\n",
       "      <td>BEECH</td>\n",
       "      <td>North Carolina</td>\n",
       "      <td>36</td>\n",
       "      <td>AIRCRAFT CRASHED INTO TREES, THE 1 PERSON ON B...</td>\n",
       "      <td>UNKNOWN (UNK)</td>\n",
       "      <td>Accident</td>\n",
       "      <td>Yes</td>\n",
       "      <td>Unknown</td>\n",
       "    </tr>\n",
       "    <tr>\n",
       "      <th>1</th>\n",
       "      <td>2016-02-18 23:55:00</td>\n",
       "      <td>VANS</td>\n",
       "      <td>Florida</td>\n",
       "      <td>RV7</td>\n",
       "      <td>AIRCRAFT ON LANDING WENT OFF THE END OF THE RU...</td>\n",
       "      <td>LANDING (LDG)</td>\n",
       "      <td>Incident</td>\n",
       "      <td>NaN</td>\n",
       "      <td>Unknown</td>\n",
       "    </tr>\n",
       "    <tr>\n",
       "      <th>2</th>\n",
       "      <td>2016-02-18 22:14:00</td>\n",
       "      <td>CESSNA</td>\n",
       "      <td>New Jersey</td>\n",
       "      <td>172</td>\n",
       "      <td>AIRCRAFT ON FINAL SUSTAINED A BIRD STRIKE, LAN...</td>\n",
       "      <td>APPROACH (APR)</td>\n",
       "      <td>Incident</td>\n",
       "      <td>NaN</td>\n",
       "      <td>Minor</td>\n",
       "    </tr>\n",
       "    <tr>\n",
       "      <th>3</th>\n",
       "      <td>2016-02-18 17:10:00</td>\n",
       "      <td>LANCAIR</td>\n",
       "      <td>North Carolina</td>\n",
       "      <td>235</td>\n",
       "      <td>AIRCRAFT ON LANDING, GEAR COLLAPSED, ASHEVILLE...</td>\n",
       "      <td>LANDING (LDG)</td>\n",
       "      <td>Incident</td>\n",
       "      <td>NaN</td>\n",
       "      <td>Unknown</td>\n",
       "    </tr>\n",
       "    <tr>\n",
       "      <th>4</th>\n",
       "      <td>2016-02-18 00:26:00</td>\n",
       "      <td>CESSNA</td>\n",
       "      <td>Alaska</td>\n",
       "      <td>172</td>\n",
       "      <td>AIRCRAFT ON LANDING, NOSE GEAR COLLAPSED, TALK...</td>\n",
       "      <td>LANDING (LDG)</td>\n",
       "      <td>Incident</td>\n",
       "      <td>NaN</td>\n",
       "      <td>Minor</td>\n",
       "    </tr>\n",
       "  </tbody>\n",
       "</table>\n",
       "</div>"
      ],
      "text/plain": [
       "       EVENT_DATETIME ACFT_MAKE_NAME  LOC_STATE_NAME ACFT_MODEL_NAME  \\\n",
       "0 2016-02-19 00:45:00          BEECH  North Carolina              36   \n",
       "1 2016-02-18 23:55:00           VANS         Florida             RV7   \n",
       "2 2016-02-18 22:14:00         CESSNA      New Jersey             172   \n",
       "3 2016-02-18 17:10:00        LANCAIR  North Carolina             235   \n",
       "4 2016-02-18 00:26:00         CESSNA          Alaska             172   \n",
       "\n",
       "                                            RMK_TEXT       FLT_PHASE  \\\n",
       "0  AIRCRAFT CRASHED INTO TREES, THE 1 PERSON ON B...   UNKNOWN (UNK)   \n",
       "1  AIRCRAFT ON LANDING WENT OFF THE END OF THE RU...   LANDING (LDG)   \n",
       "2  AIRCRAFT ON FINAL SUSTAINED A BIRD STRIKE, LAN...  APPROACH (APR)   \n",
       "3  AIRCRAFT ON LANDING, GEAR COLLAPSED, ASHEVILLE...   LANDING (LDG)   \n",
       "4  AIRCRAFT ON LANDING, NOSE GEAR COLLAPSED, TALK...   LANDING (LDG)   \n",
       "\n",
       "  EVENT_TYPE_DESC FATAL_FLAG ACFT_DMG_DESC  \n",
       "0        Accident        Yes       Unknown  \n",
       "1        Incident        NaN       Unknown  \n",
       "2        Incident        NaN         Minor  \n",
       "3        Incident        NaN       Unknown  \n",
       "4        Incident        NaN         Minor  "
      ]
     },
     "execution_count": 27,
     "metadata": {},
     "output_type": "execute_result"
    }
   ],
   "source": [
    "new_df.info()\n",
    "new_df.head()"
   ]
  },
  {
   "cell_type": "code",
   "execution_count": 28,
   "id": "833f4171-355a-4a87-8bfd-69753f000eb9",
   "metadata": {},
   "outputs": [],
   "source": [
    "new_df['FATAL_FLAG'] = new_df['FATAL_FLAG'].fillna('No')"
   ]
  },
  {
   "cell_type": "code",
   "execution_count": 29,
   "id": "84a689e2-aa43-4577-9ee3-025f28272b4a",
   "metadata": {},
   "outputs": [],
   "source": [
    "fill = new_df['FLT_PHASE'].mode()\n",
    "mode = fill[0]\n",
    "new_df['FLT_PHASE'] = new_df['FLT_PHASE'].fillna(mode)\n",
    "fill1 = new_df['ACFT_DMG_DESC'].mode()\n",
    "mode1 = fill1[0]\n",
    "new_df['ACFT_DMG_DESC'] = new_df['ACFT_DMG_DESC'].fillna(mode1)"
   ]
  },
  {
   "cell_type": "code",
   "execution_count": 30,
   "id": "642d5bb0-2391-4483-bc35-968e1e38f1f2",
   "metadata": {},
   "outputs": [],
   "source": [
    "new_df.dropna(subset=['ACFT_MAKE_NAME'], inplace=True)\n",
    "new_df.dropna(subset=['ACFT_MODEL_NAME'], inplace=True)"
   ]
  },
  {
   "cell_type": "code",
   "execution_count": 31,
   "id": "dd8e498d-3e6b-499e-b1e8-7816381f8cdf",
   "metadata": {},
   "outputs": [
    {
     "data": {
      "text/plain": [
       "EVENT_DATETIME     0\n",
       "ACFT_MAKE_NAME     0\n",
       "LOC_STATE_NAME     0\n",
       "ACFT_MODEL_NAME    0\n",
       "RMK_TEXT           0\n",
       "FLT_PHASE          0\n",
       "EVENT_TYPE_DESC    0\n",
       "FATAL_FLAG         0\n",
       "ACFT_DMG_DESC      0\n",
       "dtype: int64"
      ]
     },
     "execution_count": 31,
     "metadata": {},
     "output_type": "execute_result"
    }
   ],
   "source": [
    "new_df.isnull().sum()"
   ]
  },
  {
   "cell_type": "code",
   "execution_count": 32,
   "id": "3b886d82-58d4-4857-b7a4-88b96570d9d2",
   "metadata": {},
   "outputs": [
    {
     "data": {
      "text/plain": [
       "(77, 9)"
      ]
     },
     "execution_count": 32,
     "metadata": {},
     "output_type": "execute_result"
    }
   ],
   "source": [
    "new_df.shape"
   ]
  },
  {
   "cell_type": "code",
   "execution_count": 33,
   "id": "ca5e96ae-0691-43dd-9e10-8eb0d203457f",
   "metadata": {},
   "outputs": [
    {
     "name": "stdout",
     "output_type": "stream",
     "text": [
      "ACFT_MAKE_NAME\n",
      "CESSNA                    23\n",
      "PIPER                     10\n",
      "BEECH                      9\n",
      "MOONEY                     4\n",
      "BOEING                     3\n",
      "BELL                       2\n",
      "LANCAIR                    2\n",
      "SOCATA                     2\n",
      "CHAMPION                   2\n",
      "AERONCA                    1\n",
      "SABRELINER                 1\n",
      "PITTS                      1\n",
      "FLIGHT DESIGN              1\n",
      "GULFSTREAM                 1\n",
      "GRUMMAN                    1\n",
      "AIRBUS                     1\n",
      "AEROSTAR INTERNATIONAL     1\n",
      "AERO COMMANDER             1\n",
      "SAAB                       1\n",
      "MAULE                      1\n",
      "EMBRAER                    1\n",
      "VANS                       1\n",
      "FAIRCHILD                  1\n",
      "CONSOLIDATED VULTEE        1\n",
      "GREAT LAKES                1\n",
      "GLOBE                      1\n",
      "HUGHES                     1\n",
      "CHRISTEN                   1\n",
      "NORTH AMERICAN             1\n",
      "Name: count, dtype: int64\n"
     ]
    }
   ],
   "source": [
    "airplane_name = new_df['ACFT_MAKE_NAME'].value_counts()\n",
    "print(airplane_name)"
   ]
  },
  {
   "cell_type": "code",
   "execution_count": 34,
   "id": "ef7b1c27-e84d-4604-956d-f0cf6f3a21d3",
   "metadata": {},
   "outputs": [
    {
     "name": "stdout",
     "output_type": "stream",
     "text": [
      "        EVENT_DATETIME  ACFT_MAKE_NAME  LOC_STATE_NAME ACFT_MODEL_NAME  \\\n",
      "0  2016-02-19 00:45:00           BEECH  North Carolina              36   \n",
      "53 2016-02-11 11:32:00           PIPER         Florida            PA28   \n",
      "55 2016-02-11 00:17:00   FLIGHT DESIGN      California            CTLS   \n",
      "79 2016-02-05 11:17:00  NORTH AMERICAN         Arizona             F51   \n",
      "80 2016-02-05 23:02:00        CHAMPION      California           8KCAB   \n",
      "81 2016-02-05 23:02:00           BEECH      California              35   \n",
      "82 2016-02-02 01:52:00          CESSNA         Alabama             182   \n",
      "\n",
      "                                             RMK_TEXT      FLT_PHASE  \\\n",
      "0   AIRCRAFT CRASHED INTO TREES, THE 1 PERSON ON B...  UNKNOWN (UNK)   \n",
      "53  AIRCRAFT CRASHED UNDER UNKNOWN CIRCUMSTANCES. ...  UNKNOWN (UNK)   \n",
      "55  AIRCRAFT CRASHED UNDER UNKNOWN CIRCUMSTANCES A...  UNKNOWN (UNK)   \n",
      "79  AIRCRAFT CRASHED UNDER UNKNOWN CIRCUMSTANCES, ...  UNKNOWN (UNK)   \n",
      "80  N9872R, BEECH M35 AIRCRAFT, AND N5057G, BELLAN...  UNKNOWN (UNK)   \n",
      "81  N9872R, BEECH M35 AIRCRAFT, AND N5057G, BELLAN...  UNKNOWN (UNK)   \n",
      "82  N784CP AIRCRAFT CRASHED INTO A WOODED AREA NEA...  UNKNOWN (UNK)   \n",
      "\n",
      "   EVENT_TYPE_DESC FATAL_FLAG ACFT_DMG_DESC  \n",
      "0         Accident        Yes       Unknown  \n",
      "53        Accident        Yes     Destroyed  \n",
      "55        Accident        Yes     Destroyed  \n",
      "79        Accident        Yes     Destroyed  \n",
      "80        Accident        Yes     Destroyed  \n",
      "81        Accident        Yes     Destroyed  \n",
      "82        Accident        Yes       Unknown  \n",
      "7\n"
     ]
    }
   ],
   "source": [
    "fatal_obs = new_df[new_df['FATAL_FLAG'] == 'Yes']\n",
    "print(fatal_obs)\n",
    "print(len(fatal_obs))\n"
   ]
  },
  {
   "cell_type": "code",
   "execution_count": 35,
   "id": "5679a150-ac54-490c-91c6-0644c89c18f1",
   "metadata": {},
   "outputs": [
    {
     "name": "stdout",
     "output_type": "stream",
     "text": [
      "['Unknown' 'Minor' 'Substantial' 'Destroyed']\n"
     ]
    }
   ],
   "source": [
    "unique_cats = new_df['ACFT_DMG_DESC'].unique()\n",
    "print(unique_cats)"
   ]
  },
  {
   "cell_type": "code",
   "execution_count": 36,
   "id": "fc8c85da-3c3b-4120-8600-1bd43eeb7507",
   "metadata": {},
   "outputs": [],
   "source": [
    "for cat in unique_cats:\n",
    "    col_name = f\"DMG_{cat}\"\n",
    "    new_df[col_name] = (new_df['ACFT_DMG_DESC'] == cat).astype(int)\n"
   ]
  },
  {
   "cell_type": "code",
   "execution_count": 37,
   "id": "89a96ed6-e2c7-43f1-adec-c72f7f168892",
   "metadata": {},
   "outputs": [],
   "source": [
    "new_df.drop(columns=[f\"DMG_Unknown\"], inplace=True)"
   ]
  },
  {
   "cell_type": "code",
   "execution_count": 38,
   "id": "3bd6ffb8-a82a-479b-9ab7-e25e85f77b03",
   "metadata": {},
   "outputs": [
    {
     "data": {
      "text/html": [
       "<div>\n",
       "<style scoped>\n",
       "    .dataframe tbody tr th:only-of-type {\n",
       "        vertical-align: middle;\n",
       "    }\n",
       "\n",
       "    .dataframe tbody tr th {\n",
       "        vertical-align: top;\n",
       "    }\n",
       "\n",
       "    .dataframe thead th {\n",
       "        text-align: right;\n",
       "    }\n",
       "</style>\n",
       "<table border=\"1\" class=\"dataframe\">\n",
       "  <thead>\n",
       "    <tr style=\"text-align: right;\">\n",
       "      <th></th>\n",
       "      <th>EVENT_DATETIME</th>\n",
       "      <th>ACFT_MAKE_NAME</th>\n",
       "      <th>LOC_STATE_NAME</th>\n",
       "      <th>ACFT_MODEL_NAME</th>\n",
       "      <th>RMK_TEXT</th>\n",
       "      <th>FLT_PHASE</th>\n",
       "      <th>EVENT_TYPE_DESC</th>\n",
       "      <th>FATAL_FLAG</th>\n",
       "      <th>ACFT_DMG_DESC</th>\n",
       "      <th>DMG_Minor</th>\n",
       "      <th>DMG_Substantial</th>\n",
       "      <th>DMG_Destroyed</th>\n",
       "    </tr>\n",
       "  </thead>\n",
       "  <tbody>\n",
       "    <tr>\n",
       "      <th>49</th>\n",
       "      <td>2016-02-16 02:00:00</td>\n",
       "      <td>GRUMMAN</td>\n",
       "      <td>California</td>\n",
       "      <td>AA1</td>\n",
       "      <td>AIRCRAFT ON LANDING NOSE GEAR COLLAPSED, SALIN...</td>\n",
       "      <td>LANDING (LDG)</td>\n",
       "      <td>Incident</td>\n",
       "      <td>No</td>\n",
       "      <td>Minor</td>\n",
       "      <td>1</td>\n",
       "      <td>0</td>\n",
       "      <td>0</td>\n",
       "    </tr>\n",
       "  </tbody>\n",
       "</table>\n",
       "</div>"
      ],
      "text/plain": [
       "        EVENT_DATETIME ACFT_MAKE_NAME LOC_STATE_NAME ACFT_MODEL_NAME  \\\n",
       "49 2016-02-16 02:00:00        GRUMMAN     California             AA1   \n",
       "\n",
       "                                             RMK_TEXT      FLT_PHASE  \\\n",
       "49  AIRCRAFT ON LANDING NOSE GEAR COLLAPSED, SALIN...  LANDING (LDG)   \n",
       "\n",
       "   EVENT_TYPE_DESC FATAL_FLAG ACFT_DMG_DESC  DMG_Minor  DMG_Substantial  \\\n",
       "49        Incident         No         Minor          1                0   \n",
       "\n",
       "    DMG_Destroyed  \n",
       "49              0  "
      ]
     },
     "execution_count": 38,
     "metadata": {},
     "output_type": "execute_result"
    }
   ],
   "source": [
    "new_df.sample()"
   ]
  },
  {
   "cell_type": "code",
   "execution_count": 39,
   "id": "b957e58c-8e39-45da-8ab0-229555e5180f",
   "metadata": {},
   "outputs": [],
   "source": [
    "def extract_phase(text):\n",
    "    if pd.isnull(text):\n",
    "        return 'UNKNOWN'\n",
    "    phases = ['LANDING', 'TAKEOFF', 'CRUISE', 'APPROACH']\n",
    "    for phase in phases:\n",
    "        if phase in text.upper():\n",
    "            return phase\n",
    "    return 'UNKNOWN'\n",
    "\n",
    "new_df['FLIGHT_PHASE_TEXT'] = new_df['RMK_TEXT'].apply(extract_phase)\n"
   ]
  },
  {
   "cell_type": "code",
   "execution_count": 40,
   "id": "c6040140-c475-4402-9428-dc560868f437",
   "metadata": {},
   "outputs": [
    {
     "name": "stdout",
     "output_type": "stream",
     "text": [
      "    Original_Phase Text_Phase\n",
      "0    UNKNOWN (UNK)    UNKNOWN\n",
      "1    LANDING (LDG)    LANDING\n",
      "2   APPROACH (APR)    UNKNOWN\n",
      "3    LANDING (LDG)    LANDING\n",
      "4    LANDING (LDG)    LANDING\n",
      "5    UNKNOWN (UNK)    UNKNOWN\n",
      "6    LANDING (LDG)    LANDING\n",
      "7    LANDING (LDG)    LANDING\n",
      "8    TAKEOFF (TOF)    UNKNOWN\n",
      "10   LANDING (LDG)    LANDING\n",
      "12   LANDING (LDG)    LANDING\n",
      "13   LANDING (LDG)    LANDING\n",
      "14   TAKEOFF (TOF)    TAKEOFF\n",
      "15   LANDING (LDG)    UNKNOWN\n",
      "16   TAKEOFF (TOF)    TAKEOFF\n",
      "17   LANDING (LDG)    LANDING\n",
      "18   TAKEOFF (TOF)    UNKNOWN\n",
      "19   LANDING (LDG)    LANDING\n",
      "20   LANDING (LDG)    LANDING\n",
      "21   UNKNOWN (UNK)    UNKNOWN\n"
     ]
    }
   ],
   "source": [
    "comparison = pd.DataFrame({\n",
    "    'Original_Phase': new_df['FLT_PHASE'],\n",
    "    'Text_Phase': new_df['FLIGHT_PHASE_TEXT']\n",
    "})\n",
    "print(comparison.head(20))\n"
   ]
  }
 ],
 "metadata": {
  "kernelspec": {
   "display_name": "Python 3 (ipykernel)",
   "language": "python",
   "name": "python3"
  },
  "language_info": {
   "codemirror_mode": {
    "name": "ipython",
    "version": 3
   },
   "file_extension": ".py",
   "mimetype": "text/x-python",
   "name": "python",
   "nbconvert_exporter": "python",
   "pygments_lexer": "ipython3",
   "version": "3.11.7"
  }
 },
 "nbformat": 4,
 "nbformat_minor": 5
}
